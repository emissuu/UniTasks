{
 "cells": [
  {
   "cell_type": "markdown",
   "id": "380e2f00",
   "metadata": {},
   "source": [
    "# Лабораторна робота №2\n",
    "Тема: Оглядовий аналіз та візуалізація даних (EDA)  \n",
    "Студент: Луцюк Богдан КН-2  \n",
    "Варіант: 4 / [https://www.kaggle.com/...](https://www.kaggle.com/datasets/ahsan81/superstore-marketing-campaign-dataset)  \n",
    "Дата: 22.10.2025  \n",
    "Репозиторій: https://github.com/emissuu/UniTasks/tree/main/R/Lab2"
   ]
  }
 ],
 "metadata": {
  "language_info": {
   "name": "plaintext"
  }
 },
 "nbformat": 4,
 "nbformat_minor": 5
}
