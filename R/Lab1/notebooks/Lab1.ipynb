{
 "cells": [
  {
   "cell_type": "markdown",
   "id": "b2edaefe",
   "metadata": {},
   "source": [
    "# Лабораторна робота №1\n",
    "Тема: Підготовка статистичних даних: читання, описова статистика, очистка\n",
    "Студент: Луцюк Богдан КН-2\n",
    "Варіант: 4\n",
    "Дата: 06.10.2025\n",
    "Репозиторій: https://github.com/emissuu/UniTasks/tree/main/R/Lab1"
   ]
  },
  {
   "cell_type": "markdown",
   "id": "f65030d2",
   "metadata": {},
   "source": [
    "### title"
   ]
  },
  {
   "cell_type": "code",
   "execution_count": null,
   "id": "ea2f3c9d",
   "metadata": {},
   "outputs": [],
   "source": [
    "# code"
   ]
  }
 ],
 "metadata": {
  "language_info": {
   "name": "r"
  }
 },
 "nbformat": 4,
 "nbformat_minor": 5
}
