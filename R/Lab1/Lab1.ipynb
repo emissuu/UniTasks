{
 "cells": [
  {
   "cell_type": "markdown",
   "id": "b2edaefe",
   "metadata": {},
   "source": [
    "# The THING"
   ]
  }
 ],
 "metadata": {
  "language_info": {
   "name": "r"
  }
 },
 "nbformat": 4,
 "nbformat_minor": 5
}
